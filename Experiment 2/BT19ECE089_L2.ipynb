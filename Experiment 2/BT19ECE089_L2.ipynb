{
  "nbformat": 4,
  "nbformat_minor": 0,
  "metadata": {
    "colab": {
      "name": "BT19ECE089_L2.ipynb",
      "provenance": []
    },
    "kernelspec": {
      "name": "python3",
      "display_name": "Python 3"
    },
    "language_info": {
      "name": "python"
    }
  },
  "cells": [
    {
      "cell_type": "markdown",
      "source": [
        "**Installing Necessary Libraries**"
      ],
      "metadata": {
        "id": "hzY2oQZ5DYxq"
      }
    },
    {
      "cell_type": "code",
      "execution_count": 1,
      "metadata": {
        "colab": {
          "base_uri": "https://localhost:8080/"
        },
        "id": "CzYfCszgv2Mf",
        "outputId": "3e1692e2-3e42-406f-8479-76930626a0b2"
      },
      "outputs": [
        {
          "output_type": "stream",
          "name": "stdout",
          "text": [
            "Looking in indexes: https://pypi.org/simple, https://us-python.pkg.dev/colab-wheels/public/simple/\n",
            "Collecting mat4py\n",
            "  Downloading mat4py-0.5.0-py2.py3-none-any.whl (13 kB)\n",
            "Installing collected packages: mat4py\n",
            "Successfully installed mat4py-0.5.0\n"
          ]
        }
      ],
      "source": [
        "!pip install mat4py\n",
        "import pandas as pd\n",
        "import numpy as np\n",
        "from sklearn.model_selection import train_test_split\n",
        "from mat4py import loadmat\n",
        "import matplotlib.pyplot as plt\n",
        "from sklearn.metrics import mean_squared_error, mean_absolute_error"
      ]
    },
    {
      "cell_type": "markdown",
      "source": [
        "**Function to Read Data File**"
      ],
      "metadata": {
        "id": "BX8gJqV-Dkan"
      }
    },
    {
      "cell_type": "code",
      "source": [
        "def BT19ECE089_dataset_div_shuffle(dir_path,split_ratio):\n",
        "    #CSV XLS MAT\n",
        "    if(dir_path.endswith('.csv')):\n",
        "        data = pd.read_csv(dir_path)\n",
        "    elif(dir_path.endswith('.xls')):\n",
        "        data = pd.read_excel(dir_path)\n",
        "    elif(dir_path.endswith('.mat')):\n",
        "        data = loadmat(dir_path)\n",
        "    else:\n",
        "        print(\"Invalid datatype. Select .csv or .xls or .mat file\")\n",
        "        \n",
        "    train_data , test_data = train_test_split(data,train_size = split_ratio,shuffle = True)\n",
        "    \n",
        "    return train_data , test_data "
      ],
      "metadata": {
        "id": "WK9FygZFv9-R"
      },
      "execution_count": 3,
      "outputs": []
    },
    {
      "cell_type": "markdown",
      "source": [
        "**Arranging the data frame to get dependent(y) and independent variables(x)**"
      ],
      "metadata": {
        "id": "QXIEXe3zETA7"
      }
    },
    {
      "cell_type": "code",
      "source": [
        "data = loadmat('/content/Matlab_accidents.mat')\n",
        "\n",
        "data_accidents = data['accidents']\n",
        "#datax = data_accidents[0][2]\n",
        "'statelabel', 'hwydata', 'hwyheaders'\n",
        "df = pd.DataFrame(data_accidents['hwydata'],columns = data_accidents['hwyheaders'])\n",
        "states = [y[0] for y in data_accidents[\"statelabel\"]]\n",
        "df.insert(loc = 0,column = 'States',value = states)\n",
        "# df.head()\n",
        "df = pd.DataFrame([df['Traffic fatalities'],df['Licensed drivers (thousands)'],df['Registered vehicles (thousands)'],df['Vehicle-miles traveled (millions)']]).transpose()"
      ],
      "metadata": {
        "id": "PW8LC3LN19mM"
      },
      "execution_count": 4,
      "outputs": []
    },
    {
      "cell_type": "markdown",
      "source": [
        "**Normalizing and Splitting the data into train and test**"
      ],
      "metadata": {
        "id": "TVTj6fo6EpDz"
      }
    },
    {
      "cell_type": "code",
      "source": [
        "for column in df:\n",
        "  df[column] = df[column]/np.amax(df[column])\n",
        "train , test = train_test_split(df,train_size = 0.7,shuffle = True)"
      ],
      "metadata": {
        "id": "UTwQWFNowZQc"
      },
      "execution_count": 6,
      "outputs": []
    },
    {
      "cell_type": "markdown",
      "source": [
        "**Creating theta matrix and y for training and testing**"
      ],
      "metadata": {
        "id": "E3wrtnX1FAkI"
      }
    },
    {
      "cell_type": "code",
      "source": [
        "y_train = np.array(train.iloc[:, 0])\n",
        "y_train = y_train.reshape([35,1])\n",
        "x_train = np.array(train.iloc[:, 1:])\n",
        "on_train = np.ones([train.shape[0],1])\n",
        "theta_train = np.hstack((on_train,x_train))\n",
        "\n",
        "y_test = np.array(test.iloc[:, 0])\n",
        "x_test = np.array(test.iloc[:, 1:])\n",
        "# x_test = x_test /  np.amax(x_test)\n",
        "# y_test = y_test /  np.amax(y_test)\n",
        "on_test = np.ones([test.shape[0],1])\n",
        "y_test = y_test.reshape([y_test.shape[0],1])\n",
        "theta_test = np.hstack((on_test,x_test))"
      ],
      "metadata": {
        "id": "1EbR1nUnbx4c"
      },
      "execution_count": 7,
      "outputs": []
    },
    {
      "cell_type": "markdown",
      "source": [
        "**Calculating optimum weights (using pseudo inverse) and predicting output**"
      ],
      "metadata": {
        "id": "3qpmbDEHFaFd"
      }
    },
    {
      "cell_type": "code",
      "source": [
        "weight_opt = np.matmul(np.linalg.pinv(theta_train),y_train)\n",
        "# weight_opt.shape\n",
        "y_pred = np.matmul(theta_test,weight_opt)"
      ],
      "metadata": {
        "id": "84SCIsmEpY8y"
      },
      "execution_count": 8,
      "outputs": []
    },
    {
      "cell_type": "markdown",
      "source": [
        "**Plotting ground truth and predicted outputs**"
      ],
      "metadata": {
        "id": "P1hWJeRWF3uD"
      }
    },
    {
      "cell_type": "code",
      "source": [
        "plt.plot(y_test)\n",
        "plt.plot(y_pred)\n",
        "plt.legend(['Ground Truth','Predicted Output'])"
      ],
      "metadata": {
        "colab": {
          "base_uri": "https://localhost:8080/",
          "height": 282
        },
        "id": "P--4udA3O0vo",
        "outputId": "27d56289-b702-4e6f-ceab-c645b1b6c983"
      },
      "execution_count": 15,
      "outputs": [
        {
          "output_type": "execute_result",
          "data": {
            "text/plain": [
              "<matplotlib.legend.Legend at 0x7fa4d1ec04d0>"
            ]
          },
          "metadata": {},
          "execution_count": 15
        },
        {
          "output_type": "display_data",
          "data": {
            "text/plain": [
              "<Figure size 432x288 with 1 Axes>"
            ],
            "image/png": "[encoded data removed]"
          },
          "metadata": {
            "needs_background": "light"
          }
        }
      ]
    },
    {
      "cell_type": "markdown",
      "source": [
        "**Calculating mean squared error , root mean squared error and mean absolute error**"
      ],
      "metadata": {
        "id": "rgFXYVDRGHOu"
      }
    },
    {
      "cell_type": "code",
      "source": [
        "mse = mean_squared_error(y_test, y_pred)\n",
        "rmse = mean_squared_error(y_test, y_pred, squared = False)\n",
        "mae = mean_absolute_error(y_test, y_pred)\n",
        "print(mse,rmse,mae)"
      ],
      "metadata": {
        "id": "VtPf1psPPE_9",
        "colab": {
          "base_uri": "https://localhost:8080/"
        },
        "outputId": "09d7e3b9-c345-4103-a41d-a414ebca499c"
      },
      "execution_count": 16,
      "outputs": [
        {
          "output_type": "stream",
          "name": "stdout",
          "text": [
            "0.0016484915795305277 0.04060162040523171 0.0297834829376438\n"
          ]
        }
      ]
    },
    {
      "cell_type": "code",
      "source": [
        "print(\"Mean Squared Error: \",mse)\n",
        "print(\"Root Mean Squared Error: \",rmse)\n",
        "print(\"Mean Absolute Error: \",mae)"
      ],
      "metadata": {
        "colab": {
          "base_uri": "https://localhost:8080/"
        },
        "id": "MNCD2QjXEc93",
        "outputId": "82597b46-fbcd-4128-b42b-d82953a47289"
      },
      "execution_count": 30,
      "outputs": [
        {
          "output_type": "stream",
          "name": "stdout",
          "text": [
            "Mean Squared Error:  0.0016484915795305277\n",
            "Root Mean Squared Error:  0.04060162040523171\n",
            "Mean Absolute Error:  0.0297834829376438\n"
          ]
        }
      ]
    },
    {
      "cell_type": "markdown",
      "source": [
        "# **Finding optimum weights using Gradiend Descent**"
      ],
      "metadata": {
        "id": "1W44LwOtGWp5"
      }
    },
    {
      "cell_type": "markdown",
      "source": [
        "**Randomly initialising weights**"
      ],
      "metadata": {
        "id": "zPzeeCXGG6Io"
      }
    },
    {
      "cell_type": "code",
      "source": [
        "grad_weights = np.random.randn(len(theta_train[0]), 1)\n",
        "# grad_weights.shape"
      ],
      "metadata": {
        "id": "DcXbfpEOVM0r"
      },
      "execution_count": 31,
      "outputs": []
    },
    {
      "cell_type": "markdown",
      "source": [
        "**Implementing Gradient Descent and predicting output**"
      ],
      "metadata": {
        "id": "YnWF5iaoHGIb"
      }
    },
    {
      "cell_type": "code",
      "source": [
        "iterations = 1000\n",
        "learning_rate = 0.03\n",
        "\n",
        "for i in range(iterations):\n",
        "  delta_e = np.matmul(theta_train.transpose(),(np.matmul(theta_train,grad_weights)-y_train))\n",
        "  grad_weights = grad_weights - learning_rate * delta_e \n",
        "ygrad_pred = np.matmul(theta_test,grad_weights)"
      ],
      "metadata": {
        "id": "cB_HiC9zBDi7"
      },
      "execution_count": 32,
      "outputs": []
    },
    {
      "cell_type": "markdown",
      "source": [
        "**Plotting ground truth and predicted outputs**"
      ],
      "metadata": {
        "id": "V_YHdkkdJngN"
      }
    },
    {
      "cell_type": "code",
      "source": [
        "plt.plot(y_test)\n",
        "plt.plot(ygrad_pred)\n",
        "plt.legend(['Ground Truth','Predicted Output'])"
      ],
      "metadata": {
        "colab": {
          "base_uri": "https://localhost:8080/",
          "height": 282
        },
        "id": "0ZXuLy05CT_I",
        "outputId": "28bb4125-8303-4b88-e7ff-e7e7861de5d4"
      },
      "execution_count": 33,
      "outputs": [
        {
          "output_type": "execute_result",
          "data": {
            "text/plain": [
              "<matplotlib.legend.Legend at 0x7fa4d1c20cd0>"
            ]
          },
          "metadata": {},
          "execution_count": 33
        },
        {
          "output_type": "display_data",
          "data": {
            "text/plain": [
              "<Figure size 432x288 with 1 Axes>"
            ],
            "image/png": "[encoded data removed]"
          },
          "metadata": {
            "needs_background": "light"
          }
        }
      ]
    },
    {
      "cell_type": "markdown",
      "source": [
        "**Calculating mean squared error , root mean squared error and mean absolute error**"
      ],
      "metadata": {
        "id": "HxaU6VNEKNd9"
      }
    },
    {
      "cell_type": "code",
      "source": [
        "mse_g = mean_squared_error(y_test, ygrad_pred)\n",
        "rmse_g = mean_squared_error(y_test, ygrad_pred, squared = False)\n",
        "mae_g = mean_absolute_error(y_test, ygrad_pred)\n",
        "print(mse_g,rmse_g,mae_g)"
      ],
      "metadata": {
        "colab": {
          "base_uri": "https://localhost:8080/"
        },
        "id": "Vegso8fBCaex",
        "outputId": "d4afcc6b-3746-4803-9746-2e4fd1aba88e"
      },
      "execution_count": 34,
      "outputs": [
        {
          "output_type": "stream",
          "name": "stdout",
          "text": [
            "0.002906374104840904 0.05391079766466922 0.043063532175202424\n"
          ]
        }
      ]
    },
    {
      "cell_type": "code",
      "source": [
        "print(\"Mean Squared Error: \",mse_g)\n",
        "print(\"Root Mean Squared Error: \",rmse_g)\n",
        "print(\"Mean Absolute Error: \",mae_g)"
      ],
      "metadata": {
        "colab": {
          "base_uri": "https://localhost:8080/"
        },
        "id": "B8TkBnlGEj4S",
        "outputId": "d1f8ae3a-1717-43b8-d0dc-bfc3fb08f685"
      },
      "execution_count": 35,
      "outputs": [
        {
          "output_type": "stream",
          "name": "stdout",
          "text": [
            "Mean Squared Error:  0.002906374104840904\n",
            "Root Mean Squared Error:  0.05391079766466922\n",
            "Mean Absolute Error:  0.043063532175202424\n"
          ]
        }
      ]
    },
    {
      "cell_type": "markdown",
      "source": [
        "# Changing relationship between input and output variables "
      ],
      "metadata": {
        "id": "mvI1p_PuPwm-"
      }
    },
    {
      "cell_type": "markdown",
      "source": [
        "**Recalculating Theta matrix**"
      ],
      "metadata": {
        "id": "VLQFMbIuQRaP"
      }
    },
    {
      "cell_type": "code",
      "source": [
        "theta_train_dash = np.hstack((on_train,np.reshape(np.square(x_train.T[0]).T,(35,1)),x_train))\n",
        "theta_test_dash = np.hstack((on_test,np.reshape(np.square(x_test.T[0]).T,(16,1)),x_test))\n",
        "# theta_train_dash.shape"
      ],
      "metadata": {
        "id": "G4mgoiydLLXb"
      },
      "execution_count": 36,
      "outputs": []
    },
    {
      "cell_type": "markdown",
      "source": [
        "**Calculating optimum weights (using pseudo inverse) and predicting output**"
      ],
      "metadata": {
        "id": "6D-5D_boQ5yI"
      }
    },
    {
      "cell_type": "code",
      "source": [
        "weight_opt_dash = np.matmul(np.linalg.pinv(theta_train_dash),y_train)\n",
        "# weight_opt.shape\n",
        "y_pred_dash = np.matmul(theta_test_dash,weight_opt_dash)"
      ],
      "metadata": {
        "id": "XtKBf3wvNyEV"
      },
      "execution_count": 37,
      "outputs": []
    },
    {
      "cell_type": "markdown",
      "source": [
        "**Plotting ground truth and predicted outputs**"
      ],
      "metadata": {
        "id": "Qw5T-G3rRdoY"
      }
    },
    {
      "cell_type": "code",
      "source": [
        "plt.plot(y_test)\n",
        "plt.plot(y_pred_dash)\n",
        "plt.legend(['Ground Truth','Predicted Output'])"
      ],
      "metadata": {
        "colab": {
          "base_uri": "https://localhost:8080/",
          "height": 282
        },
        "id": "AFo4PdxTO4ny",
        "outputId": "c4cff693-32e5-473f-8c3f-c3384f16eb96"
      },
      "execution_count": 38,
      "outputs": [
        {
          "output_type": "execute_result",
          "data": {
            "text/plain": [
              "<matplotlib.legend.Legend at 0x7fa4d1b32150>"
            ]
          },
          "metadata": {},
          "execution_count": 38
        },
        {
          "output_type": "display_data",
          "data": {
            "text/plain": [
              "<Figure size 432x288 with 1 Axes>"
            ],
            "image/png": "[encoded data removed]"
          },
          "metadata": {
            "needs_background": "light"
          }
        }
      ]
    },
    {
      "cell_type": "markdown",
      "source": [
        "**Calculating mean squared error , root mean squared error and mean absolute error**"
      ],
      "metadata": {
        "id": "ES50gA3eRhCQ"
      }
    },
    {
      "cell_type": "code",
      "source": [
        "mse_dash = mean_squared_error(y_test, y_pred_dash)\n",
        "rmse_dash = mean_squared_error(y_test, y_pred_dash, squared = False)\n",
        "mae_dash = mean_absolute_error(y_test, y_pred_dash)\n",
        "print(mse_dash,rmse_dash,mae_dash)"
      ],
      "metadata": {
        "colab": {
          "base_uri": "https://localhost:8080/"
        },
        "id": "Ye0P_ZfvPI_K",
        "outputId": "7a36c611-03de-42ef-ba14-ce069b02884f"
      },
      "execution_count": 39,
      "outputs": [
        {
          "output_type": "stream",
          "name": "stdout",
          "text": [
            "0.0021891078643436262 0.04678790297014418 0.033153048552636656\n"
          ]
        }
      ]
    },
    {
      "cell_type": "code",
      "source": [
        "print(\"Mean Squared Error: \",mse_dash)\n",
        "print(\"Root Mean Squared Error: \",rmse_dash)\n",
        "print(\"Mean Absolute Error: \",mae_dash)"
      ],
      "metadata": {
        "colab": {
          "base_uri": "https://localhost:8080/"
        },
        "id": "PHDhjW8aEqyu",
        "outputId": "1cce4fb5-81c4-4fb6-8b7b-3d1193f6c67e"
      },
      "execution_count": 40,
      "outputs": [
        {
          "output_type": "stream",
          "name": "stdout",
          "text": [
            "Mean Squared Error:  0.0021891078643436262\n",
            "Root Mean Squared Error:  0.04678790297014418\n",
            "Mean Absolute Error:  0.033153048552636656\n"
          ]
        }
      ]
    }
  ]
}